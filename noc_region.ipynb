{
 "cells": [
  {
   "cell_type": "code",
   "execution_count": 17,
   "id": "8ea4621b",
   "metadata": {},
   "outputs": [],
   "source": [
    "import pandas as pd"
   ]
  },
  {
   "cell_type": "code",
   "execution_count": 18,
   "id": "5754063a",
   "metadata": {},
   "outputs": [],
   "source": [
    "df=pd.read_csv('noc_region.csv')"
   ]
  },
  {
   "cell_type": "code",
   "execution_count": 19,
   "id": "171100cc",
   "metadata": {},
   "outputs": [
    {
     "data": {
      "text/plain": [
       "Index(['noc_region', 'reg', 'notes'], dtype='object')"
      ]
     },
     "execution_count": 19,
     "metadata": {},
     "output_type": "execute_result"
    }
   ],
   "source": [
    "df.columns"
   ]
  },
  {
   "cell_type": "markdown",
   "id": "e5009e06",
   "metadata": {},
   "source": [
    "#removing columns"
   ]
  },
  {
   "cell_type": "code",
   "execution_count": 20,
   "id": "61c559e5",
   "metadata": {},
   "outputs": [],
   "source": [
    "columns= ['notes']\n",
    "df.drop(columns,inplace=True,axis=1)"
   ]
  },
  {
   "cell_type": "code",
   "execution_count": 21,
   "id": "76706fbd",
   "metadata": {},
   "outputs": [
    {
     "data": {
      "text/plain": [
       "Index(['noc_region', 'reg'], dtype='object')"
      ]
     },
     "execution_count": 21,
     "metadata": {},
     "output_type": "execute_result"
    }
   ],
   "source": [
    "\n",
    "df.columns"
   ]
  },
  {
   "cell_type": "code",
   "execution_count": 22,
   "id": "a946bd1d",
   "metadata": {},
   "outputs": [],
   "source": [
    "#Renaming columns\n",
    "df.rename(columns={'noc_region':'NOC','reg':'region'},inplace=True)"
   ]
  },
  {
   "cell_type": "code",
   "execution_count": 23,
   "id": "b69a012e",
   "metadata": {},
   "outputs": [
    {
     "data": {
      "text/plain": [
       "Index(['NOC', 'region'], dtype='object')"
      ]
     },
     "execution_count": 23,
     "metadata": {},
     "output_type": "execute_result"
    }
   ],
   "source": [
    "df.columns"
   ]
  },
  {
   "cell_type": "code",
   "execution_count": 24,
   "id": "b2f43bab",
   "metadata": {},
   "outputs": [],
   "source": [
    "#Renaming columns\n",
    "new_cols=['NOC','region']\n",
    "new_names_map={df.columns[i]:new_cols[i] for i in range (len(new_cols))}"
   ]
  },
  {
   "cell_type": "code",
   "execution_count": 25,
   "id": "19c18df7",
   "metadata": {},
   "outputs": [],
   "source": [
    "df.rename(new_names_map, axis=1, inplace=True)"
   ]
  },
  {
   "cell_type": "code",
   "execution_count": 26,
   "id": "adf1a24e",
   "metadata": {},
   "outputs": [
    {
     "data": {
      "text/plain": [
       "Index(['NOC', 'region'], dtype='object')"
      ]
     },
     "execution_count": 26,
     "metadata": {},
     "output_type": "execute_result"
    }
   ],
   "source": [
    "df.columns"
   ]
  },
  {
   "cell_type": "code",
   "execution_count": 27,
   "id": "132dc83c",
   "metadata": {},
   "outputs": [],
   "source": [
    "    # Save the cleaned dataset to a new CSV file named 'olympics_history_noc_regions_cleaned.csv'\n",
    "    df.to_csv('noc_regions_cleaned.csv', index=False)"
   ]
  },
  {
   "cell_type": "code",
   "execution_count": null,
   "id": "96a76088",
   "metadata": {},
   "outputs": [],
   "source": []
  }
 ],
 "metadata": {
  "kernelspec": {
   "display_name": "Python 3 (ipykernel)",
   "language": "python",
   "name": "python3"
  },
  "language_info": {
   "codemirror_mode": {
    "name": "ipython",
    "version": 3
   },
   "file_extension": ".py",
   "mimetype": "text/x-python",
   "name": "python",
   "nbconvert_exporter": "python",
   "pygments_lexer": "ipython3",
   "version": "3.10.9"
  }
 },
 "nbformat": 4,
 "nbformat_minor": 5
}
